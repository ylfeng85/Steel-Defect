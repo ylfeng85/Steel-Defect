{
 "cells": [
  {
   "cell_type": "markdown",
   "id": "32e26012-ea09-4852-b335-a0d009999240",
   "metadata": {},
   "source": [
    "# Steel Image Classification with RNN's using LSTM\n",
    "# Machine Learning Project"
   ]
  },
  {
   "cell_type": "code",
   "execution_count": 1,
   "id": "bc50f878",
   "metadata": {
    "id": "bc50f878",
    "tags": []
   },
   "outputs": [],
   "source": [
    "# importing library\n",
    "import pandas as pd\n",
    "import numpy as np\n",
    "import matplotlib.pyplot as plt\n",
    "import seaborn as sns\n",
    "import warnings\n",
    "import keras\n",
    "from sklearn.model_selection import train_test_split\n",
    "from tqdm import tqdm\n",
    "import cv2\n",
    "from sklearn.preprocessing import OneHotEncoder, LabelEncoder\n",
    "from tensorflow.keras.utils import to_categorical\n",
    "from keras.models import Sequential\n",
    "import tensorflow as tf\n",
    "from keras.layers import Dense, Conv2D, Flatten, MaxPooling2D, Dropout, LSTM, ConvLSTM1D, ConvLSTM2D\n",
    "from collections import Counter\n",
    "from keras.preprocessing.image import ImageDataGenerator\n",
    "import os\n",
    "from tensorflow.keras.callbacks import EarlyStopping\n",
    "\n",
    "from sklearn.metrics import precision_score, recall_score, f1_score, accuracy_score"
   ]
  },
  {
   "cell_type": "code",
   "execution_count": 2,
   "id": "6fe1b77c",
   "metadata": {
    "id": "6fe1b77c"
   },
   "outputs": [
    {
     "data": {
      "text/plain": [
       "[PhysicalDevice(name='/physical_device:CPU:0', device_type='CPU'),\n",
       " PhysicalDevice(name='/physical_device:GPU:0', device_type='GPU')]"
      ]
     },
     "execution_count": 2,
     "metadata": {},
     "output_type": "execute_result"
    }
   ],
   "source": [
    "tf.config.set_visible_devices([], 'GPU')\n",
    "tf.config.list_physical_devices()"
   ]
  },
  {
   "cell_type": "markdown",
   "id": "419c059e",
   "metadata": {
    "id": "419c059e",
    "tags": []
   },
   "source": [
    "## EDA"
   ]
  },
  {
   "cell_type": "code",
   "execution_count": 3,
   "id": "36c3970f",
   "metadata": {
    "id": "36c3970f",
    "outputId": "3a5e67e3-e3ca-47b9-93fe-86fc8c7eeb53",
    "scrolled": true
   },
   "outputs": [],
   "source": [
    "# checking for number of images in training\n",
    "files = os.listdir('/Users/ali/Downloads/severstal-steel-defect-detection/train_images') \n",
    "number_files = len(files)"
   ]
  },
  {
   "cell_type": "code",
   "execution_count": 4,
   "id": "c68c8b9f-7a51-4983-b042-d4078e4f81d8",
   "metadata": {},
   "outputs": [
    {
     "name": "stdout",
     "output_type": "stream",
     "text": [
      "number of images in training: 12568\n"
     ]
    }
   ],
   "source": [
    "print('number of images in training:', number_files)"
   ]
  },
  {
   "cell_type": "code",
   "execution_count": 5,
   "id": "0d2a574f",
   "metadata": {
    "id": "0d2a574f",
    "outputId": "97c22625-29d9-4ac5-adb8-19aca53d8c6f"
   },
   "outputs": [
    {
     "data": {
      "text/html": [
       "<div>\n",
       "<style scoped>\n",
       "    .dataframe tbody tr th:only-of-type {\n",
       "        vertical-align: middle;\n",
       "    }\n",
       "\n",
       "    .dataframe tbody tr th {\n",
       "        vertical-align: top;\n",
       "    }\n",
       "\n",
       "    .dataframe thead th {\n",
       "        text-align: right;\n",
       "    }\n",
       "</style>\n",
       "<table border=\"1\" class=\"dataframe\">\n",
       "  <thead>\n",
       "    <tr style=\"text-align: right;\">\n",
       "      <th></th>\n",
       "      <th>ImageId</th>\n",
       "    </tr>\n",
       "  </thead>\n",
       "  <tbody>\n",
       "    <tr>\n",
       "      <th>0</th>\n",
       "      <td>58ee62fd7.jpg</td>\n",
       "    </tr>\n",
       "    <tr>\n",
       "      <th>1</th>\n",
       "      <td>eeffa4c49.jpg</td>\n",
       "    </tr>\n",
       "    <tr>\n",
       "      <th>2</th>\n",
       "      <td>0dced41aa.jpg</td>\n",
       "    </tr>\n",
       "    <tr>\n",
       "      <th>3</th>\n",
       "      <td>bd2366c49.jpg</td>\n",
       "    </tr>\n",
       "    <tr>\n",
       "      <th>4</th>\n",
       "      <td>e2bdd4236.jpg</td>\n",
       "    </tr>\n",
       "  </tbody>\n",
       "</table>\n",
       "</div>"
      ],
      "text/plain": [
       "         ImageId\n",
       "0  58ee62fd7.jpg\n",
       "1  eeffa4c49.jpg\n",
       "2  0dced41aa.jpg\n",
       "3  bd2366c49.jpg\n",
       "4  e2bdd4236.jpg"
      ]
     },
     "execution_count": 5,
     "metadata": {},
     "output_type": "execute_result"
    }
   ],
   "source": [
    "# creating dataframe that lists ImageId for training images\n",
    "file_df = pd.DataFrame(files, columns = ['ImageId'])\n",
    "file_df.head()"
   ]
  },
  {
   "cell_type": "code",
   "execution_count": 6,
   "id": "4590dd6f",
   "metadata": {
    "id": "4590dd6f",
    "outputId": "0e620d8c-4c7a-46d8-81ff-d250a58bc19e"
   },
   "outputs": [
    {
     "name": "stdout",
     "output_type": "stream",
     "text": [
      "number of images that have defects in training: 7095\n"
     ]
    }
   ],
   "source": [
    "# checking for number of images that have defects in training from csv file\n",
    "data = pd.read_csv(\"/Users/ali/Downloads/severstal-steel-defect-detection/train.csv\")\n",
    "print('number of images that have defects in training:', data.shape[0])"
   ]
  },
  {
   "cell_type": "code",
   "execution_count": 7,
   "id": "2e3f16b1",
   "metadata": {
    "id": "2e3f16b1",
    "outputId": "4ed3f127-c626-4189-8757-a86f0222eaad"
   },
   "outputs": [
    {
     "data": {
      "text/plain": [
       "3    5150\n",
       "1     897\n",
       "4     801\n",
       "2     247\n",
       "Name: ClassId, dtype: int64"
      ]
     },
     "execution_count": 7,
     "metadata": {},
     "output_type": "execute_result"
    },
    {
     "data": {
      "image/png": "[encoded data removed]",
      "text/plain": [
       "<Figure size 432x288 with 1 Axes>"
      ]
     },
     "metadata": {
      "needs_background": "light"
     },
     "output_type": "display_data"
    }
   ],
   "source": [
    "# Checking the classes of the images in training\n",
    "data[\"ClassId\"].value_counts().plot(kind = 'bar')\n",
    "plt.title('Number of Training Images with Defect', fontsize=10)\n",
    "plt.ylabel('Number of Images'); plt.xlabel('Defect Type')\n",
    "data[\"ClassId\"].value_counts()"
   ]
  },
  {
   "cell_type": "markdown",
   "id": "294c1d6e",
   "metadata": {
    "id": "294c1d6e"
   },
   "source": [
    "## Feature Engineering & Transformation"
   ]
  },
  {
   "cell_type": "code",
   "execution_count": 8,
   "id": "0d52ab95",
   "metadata": {
    "id": "0d52ab95",
    "outputId": "ca091a53-2064-4566-aaaa-76450654dca5"
   },
   "outputs": [
    {
     "data": {
      "text/html": [
       "<div>\n",
       "<style scoped>\n",
       "    .dataframe tbody tr th:only-of-type {\n",
       "        vertical-align: middle;\n",
       "    }\n",
       "\n",
       "    .dataframe tbody tr th {\n",
       "        vertical-align: top;\n",
       "    }\n",
       "\n",
       "    .dataframe thead th {\n",
       "        text-align: right;\n",
       "    }\n",
       "</style>\n",
       "<table border=\"1\" class=\"dataframe\">\n",
       "  <thead>\n",
       "    <tr style=\"text-align: right;\">\n",
       "      <th></th>\n",
       "      <th>ImageId</th>\n",
       "      <th>ClassId</th>\n",
       "      <th>EncodedPixels</th>\n",
       "    </tr>\n",
       "  </thead>\n",
       "  <tbody>\n",
       "    <tr>\n",
       "      <th>0</th>\n",
       "      <td>0002cc93b.jpg</td>\n",
       "      <td>1</td>\n",
       "      <td>29102 12 29346 24 29602 24 29858 24 30114 24 3...</td>\n",
       "    </tr>\n",
       "    <tr>\n",
       "      <th>1</th>\n",
       "      <td>0007a71bf.jpg</td>\n",
       "      <td>3</td>\n",
       "      <td>18661 28 18863 82 19091 110 19347 110 19603 11...</td>\n",
       "    </tr>\n",
       "    <tr>\n",
       "      <th>2</th>\n",
       "      <td>000a4bcdd.jpg</td>\n",
       "      <td>1</td>\n",
       "      <td>37607 3 37858 8 38108 14 38359 20 38610 25 388...</td>\n",
       "    </tr>\n",
       "    <tr>\n",
       "      <th>3</th>\n",
       "      <td>000f6bf48.jpg</td>\n",
       "      <td>4</td>\n",
       "      <td>131973 1 132228 4 132483 6 132738 8 132993 11 ...</td>\n",
       "    </tr>\n",
       "    <tr>\n",
       "      <th>4</th>\n",
       "      <td>0014fce06.jpg</td>\n",
       "      <td>3</td>\n",
       "      <td>229501 11 229741 33 229981 55 230221 77 230468...</td>\n",
       "    </tr>\n",
       "  </tbody>\n",
       "</table>\n",
       "</div>"
      ],
      "text/plain": [
       "         ImageId  ClassId                                      EncodedPixels\n",
       "0  0002cc93b.jpg        1  29102 12 29346 24 29602 24 29858 24 30114 24 3...\n",
       "1  0007a71bf.jpg        3  18661 28 18863 82 19091 110 19347 110 19603 11...\n",
       "2  000a4bcdd.jpg        1  37607 3 37858 8 38108 14 38359 20 38610 25 388...\n",
       "3  000f6bf48.jpg        4  131973 1 132228 4 132483 6 132738 8 132993 11 ...\n",
       "4  0014fce06.jpg        3  229501 11 229741 33 229981 55 230221 77 230468..."
      ]
     },
     "execution_count": 8,
     "metadata": {},
     "output_type": "execute_result"
    }
   ],
   "source": [
    "data.head()"
   ]
  },
  {
   "cell_type": "code",
   "execution_count": 9,
   "id": "0bce5e23",
   "metadata": {
    "id": "0bce5e23",
    "outputId": "b4e650dd-55ab-4403-9804-730e83f0efa5"
   },
   "outputs": [
    {
     "data": {
      "text/html": [
       "<div>\n",
       "<style scoped>\n",
       "    .dataframe tbody tr th:only-of-type {\n",
       "        vertical-align: middle;\n",
       "    }\n",
       "\n",
       "    .dataframe tbody tr th {\n",
       "        vertical-align: top;\n",
       "    }\n",
       "\n",
       "    .dataframe thead th {\n",
       "        text-align: right;\n",
       "    }\n",
       "</style>\n",
       "<table border=\"1\" class=\"dataframe\">\n",
       "  <thead>\n",
       "    <tr style=\"text-align: right;\">\n",
       "      <th></th>\n",
       "      <th>ImageId</th>\n",
       "      <th>1</th>\n",
       "      <th>2</th>\n",
       "      <th>3</th>\n",
       "      <th>4</th>\n",
       "    </tr>\n",
       "  </thead>\n",
       "  <tbody>\n",
       "    <tr>\n",
       "      <th>0</th>\n",
       "      <td>58ee62fd7.jpg</td>\n",
       "      <td>0.0</td>\n",
       "      <td>0.0</td>\n",
       "      <td>1.0</td>\n",
       "      <td>0.0</td>\n",
       "    </tr>\n",
       "    <tr>\n",
       "      <th>1</th>\n",
       "      <td>eeffa4c49.jpg</td>\n",
       "      <td>1.0</td>\n",
       "      <td>0.0</td>\n",
       "      <td>1.0</td>\n",
       "      <td>0.0</td>\n",
       "    </tr>\n",
       "    <tr>\n",
       "      <th>2</th>\n",
       "      <td>0dced41aa.jpg</td>\n",
       "      <td>0.0</td>\n",
       "      <td>0.0</td>\n",
       "      <td>0.0</td>\n",
       "      <td>0.0</td>\n",
       "    </tr>\n",
       "    <tr>\n",
       "      <th>3</th>\n",
       "      <td>bd2366c49.jpg</td>\n",
       "      <td>0.0</td>\n",
       "      <td>0.0</td>\n",
       "      <td>0.0</td>\n",
       "      <td>0.0</td>\n",
       "    </tr>\n",
       "    <tr>\n",
       "      <th>4</th>\n",
       "      <td>e2bdd4236.jpg</td>\n",
       "      <td>0.0</td>\n",
       "      <td>0.0</td>\n",
       "      <td>1.0</td>\n",
       "      <td>0.0</td>\n",
       "    </tr>\n",
       "  </tbody>\n",
       "</table>\n",
       "</div>"
      ],
      "text/plain": [
       "         ImageId    1    2    3    4\n",
       "0  58ee62fd7.jpg  0.0  0.0  1.0  0.0\n",
       "1  eeffa4c49.jpg  1.0  0.0  1.0  0.0\n",
       "2  0dced41aa.jpg  0.0  0.0  0.0  0.0\n",
       "3  bd2366c49.jpg  0.0  0.0  0.0  0.0\n",
       "4  e2bdd4236.jpg  0.0  0.0  1.0  0.0"
      ]
     },
     "execution_count": 9,
     "metadata": {},
     "output_type": "execute_result"
    }
   ],
   "source": [
    "# Creating dataframe that shows the multi-labels of classes classification of the images\n",
    "data['values'] = 1\n",
    "pivot = data[['ImageId','ClassId','values']].pivot(index='ImageId', columns='ClassId',values='values').reset_index()\n",
    "file_df = file_df.merge(pivot, how='left', on='ImageId').fillna(0)\n",
    "file_df.head()"
   ]
  },
  {
   "cell_type": "code",
   "execution_count": 10,
   "id": "709cf0bb",
   "metadata": {
    "id": "709cf0bb",
    "outputId": "f4778e4a-ad06-4216-884e-945f4ac15634"
   },
   "outputs": [
    {
     "data": {
      "image/png": "[encoded data removed]",
      "text/plain": [
       "<Figure size 1080x360 with 1 Axes>"
      ]
     },
     "metadata": {
      "needs_background": "light"
     },
     "output_type": "display_data"
    }
   ],
   "source": [
    "# Visualizing the imbalance of data\n",
    "classes = file_df.iloc[:,1:5].to_numpy()\n",
    "counts = Counter(str(l) for l in classes)\n",
    "plt.figure(figsize=(15, 5))\n",
    "plt.bar(*zip(*counts.items()))\n",
    "plt.show()"
   ]
  },
  {
   "cell_type": "code",
   "execution_count": 11,
   "id": "d6916a90",
   "metadata": {
    "id": "d6916a90",
    "outputId": "3707e53b-92c9-41a7-96fc-2adbd7b4d640"
   },
   "outputs": [
    {
     "data": {
      "text/plain": [
       "3     2.440388\n",
       "1    14.011148\n",
       "4    15.690387\n",
       "2    50.882591\n",
       "Name: ClassId, dtype: float64"
      ]
     },
     "execution_count": 11,
     "metadata": {},
     "output_type": "execute_result"
    }
   ],
   "source": [
    "# Porportion of Classes in the training image dataset\n",
    "1/(data[\"ClassId\"].value_counts()/len(file_df))"
   ]
  },
  {
   "cell_type": "code",
   "execution_count": 12,
   "id": "3a184912",
   "metadata": {
    "id": "3a184912"
   },
   "outputs": [],
   "source": [
    "# Spliting X_train, X_test, y_train and y_test \n",
    "X_train, X_test, y_train, y_test = train_test_split(file_df['ImageId'],file_df[[1,2,3,4]],test_size=0.3,random_state=1)"
   ]
  },
  {
   "cell_type": "code",
   "execution_count": 13,
   "id": "8cfc5e80",
   "metadata": {
    "id": "8cfc5e80"
   },
   "outputs": [],
   "source": [
    "# Merging training and test datasets together to deal with class imbalance\n",
    "train = pd.concat([X_train, y_train], axis=1)\n",
    "test = pd.concat([X_test, y_test], axis=1)"
   ]
  },
  {
   "cell_type": "code",
   "execution_count": 14,
   "id": "72b40d83",
   "metadata": {
    "id": "72b40d83",
    "outputId": "d4da979d-4392-42d5-ef9b-51b43565e673"
   },
   "outputs": [
    {
     "data": {
      "text/html": [
       "<div>\n",
       "<style scoped>\n",
       "    .dataframe tbody tr th:only-of-type {\n",
       "        vertical-align: middle;\n",
       "    }\n",
       "\n",
       "    .dataframe tbody tr th {\n",
       "        vertical-align: top;\n",
       "    }\n",
       "\n",
       "    .dataframe thead th {\n",
       "        text-align: right;\n",
       "    }\n",
       "</style>\n",
       "<table border=\"1\" class=\"dataframe\">\n",
       "  <thead>\n",
       "    <tr style=\"text-align: right;\">\n",
       "      <th></th>\n",
       "      <th>ImageId</th>\n",
       "      <th>1</th>\n",
       "      <th>2</th>\n",
       "      <th>3</th>\n",
       "      <th>4</th>\n",
       "    </tr>\n",
       "  </thead>\n",
       "  <tbody>\n",
       "    <tr>\n",
       "      <th>8191</th>\n",
       "      <td>9941cb9f1.jpg</td>\n",
       "      <td>0.0</td>\n",
       "      <td>0.0</td>\n",
       "      <td>1.0</td>\n",
       "      <td>0.0</td>\n",
       "    </tr>\n",
       "    <tr>\n",
       "      <th>974</th>\n",
       "      <td>16d9c0a30.jpg</td>\n",
       "      <td>0.0</td>\n",
       "      <td>0.0</td>\n",
       "      <td>0.0</td>\n",
       "      <td>0.0</td>\n",
       "    </tr>\n",
       "    <tr>\n",
       "      <th>5431</th>\n",
       "      <td>15f14781f.jpg</td>\n",
       "      <td>0.0</td>\n",
       "      <td>0.0</td>\n",
       "      <td>1.0</td>\n",
       "      <td>0.0</td>\n",
       "    </tr>\n",
       "    <tr>\n",
       "      <th>5707</th>\n",
       "      <td>3e3aa2898.jpg</td>\n",
       "      <td>0.0</td>\n",
       "      <td>0.0</td>\n",
       "      <td>0.0</td>\n",
       "      <td>0.0</td>\n",
       "    </tr>\n",
       "    <tr>\n",
       "      <th>3529</th>\n",
       "      <td>b0d290bbf.jpg</td>\n",
       "      <td>0.0</td>\n",
       "      <td>0.0</td>\n",
       "      <td>0.0</td>\n",
       "      <td>0.0</td>\n",
       "    </tr>\n",
       "  </tbody>\n",
       "</table>\n",
       "</div>"
      ],
      "text/plain": [
       "            ImageId    1    2    3    4\n",
       "8191  9941cb9f1.jpg  0.0  0.0  1.0  0.0\n",
       "974   16d9c0a30.jpg  0.0  0.0  0.0  0.0\n",
       "5431  15f14781f.jpg  0.0  0.0  1.0  0.0\n",
       "5707  3e3aa2898.jpg  0.0  0.0  0.0  0.0\n",
       "3529  b0d290bbf.jpg  0.0  0.0  0.0  0.0"
      ]
     },
     "execution_count": 14,
     "metadata": {},
     "output_type": "execute_result"
    }
   ],
   "source": [
    "train.head()"
   ]
  },
  {
   "cell_type": "code",
   "execution_count": 15,
   "id": "f893c318",
   "metadata": {
    "id": "f893c318",
    "outputId": "dec6bfc9-068f-4535-f218-ce1289f9bca3"
   },
   "outputs": [
    {
     "data": {
      "text/plain": [
       "(13543, 5)"
      ]
     },
     "execution_count": 15,
     "metadata": {},
     "output_type": "execute_result"
    }
   ],
   "source": [
    "# Replicating rows of data according to class \n",
    "train['rpt'] = 1 + train[1]*2 + train[2]*8 + train[4]*2 + \\\n",
    "                   train[1]*train[2]*4 + train[1]*train[3]*4 + \\\n",
    "                   train[3]*train[4]*2 + train[2]*train[3]*8 + train[2]*train[4]*16\n",
    "train = train.reindex(train.index.repeat(train.rpt)).reset_index(drop=True).drop(['rpt'],axis=1)\n",
    "train.shape"
   ]
  },
  {
   "cell_type": "code",
   "execution_count": 16,
   "id": "9ae34c2a",
   "metadata": {
    "id": "9ae34c2a"
   },
   "outputs": [],
   "source": [
    "# y_counts = train[[1,2,3,4]].to_numpy()"
   ]
  },
  {
   "cell_type": "code",
   "execution_count": 17,
   "id": "80f959fb",
   "metadata": {
    "id": "80f959fb",
    "outputId": "e62a7c0b-ccf1-403d-d7a1-a8914cec5806"
   },
   "outputs": [
    {
     "data": {
      "image/png": "[encoded data removed]",
      "text/plain": [
       "<Figure size 1080x360 with 1 Axes>"
      ]
     },
     "metadata": {
      "needs_background": "light"
     },
     "output_type": "display_data"
    }
   ],
   "source": [
    "# Visualizing new class distribution of training dataset\n",
    "y_counts_new = train[[1,2,3,4]].to_numpy()\n",
    "counts = Counter(str(l) for l in y_counts_new)\n",
    "plt.figure(figsize=(15, 5))\n",
    "plt.bar(*zip(*counts.items()))\n",
    "plt.show()"
   ]
  },
  {
   "cell_type": "code",
   "execution_count": 18,
   "id": "f082b850",
   "metadata": {
    "id": "f082b850",
    "outputId": "841376b8-0c40-45a9-f568-2c4a9af85509"
   },
   "outputs": [
    {
     "name": "stderr",
     "output_type": "stream",
     "text": [
      "100%|██████████| 13543/13543 [01:06<00:00, 203.56it/s]\n"
     ]
    }
   ],
   "source": [
    "# Creating training dataset after transforming and replicating data due to class imbalance\n",
    "X = []\n",
    "y = [] \n",
    "for img,c1,c2,c3,c4 in tqdm(train.values):\n",
    "    image=cv2.imread(f\"/Users/ali/Downloads/severstal-steel-defect-detection/train_images/{img}\",cv2.IMREAD_COLOR)\n",
    "    image=cv2.resize(image,(71,71))\n",
    "    X.append(image)\n",
    "    y.append([c1,c2,c3,c4])\n",
    "    \n",
    "X = np.array(X)\n",
    "y = np.array(y).astype(int)"
   ]
  },
  {
   "cell_type": "code",
   "execution_count": 19,
   "id": "2cd7639e",
   "metadata": {
    "id": "2cd7639e",
    "outputId": "f612831b-9a66-499e-d9d6-f5c459bdacf9"
   },
   "outputs": [
    {
     "name": "stderr",
     "output_type": "stream",
     "text": [
      "100%|██████████| 3771/3771 [00:18<00:00, 199.70it/s]\n"
     ]
    }
   ],
   "source": [
    "# Creating test dataset\n",
    "X_t = []\n",
    "y_t = [] \n",
    "for img,c1,c2,c3,c4 in tqdm(test.values):\n",
    "    image=cv2.imread(f\"/Users/ali/Downloads/severstal-steel-defect-detection/train_images/{img}\",cv2.IMREAD_COLOR)\n",
    "    image=cv2.resize(image,(71,71))\n",
    "    X_t.append(image)\n",
    "    y_t.append([c1,c2,c3,c4])\n",
    "\n",
    "X_t = np.array(X_t)\n",
    "y_t = np.array(y_t).astype(int)"
   ]
  },
  {
   "cell_type": "markdown",
   "id": "44673077-c0ab-49b6-a284-6d57492f0fcc",
   "metadata": {},
   "source": [
    "## Building out our RNN Models"
   ]
  },
  {
   "cell_type": "code",
   "execution_count": 20,
   "id": "af8748d4-0da8-4615-a83c-fdf81db23220",
   "metadata": {},
   "outputs": [
    {
     "data": {
      "text/plain": [
       "(13543, 71, 71, 3)"
      ]
     },
     "execution_count": 20,
     "metadata": {},
     "output_type": "execute_result"
    }
   ],
   "source": [
    "X.shape"
   ]
  },
  {
   "cell_type": "code",
   "execution_count": 21,
   "id": "18693338-8ca2-49ee-9e0b-32b9af0e1e85",
   "metadata": {},
   "outputs": [
    {
     "data": {
      "text/plain": [
       "(13543, 4)"
      ]
     },
     "execution_count": 21,
     "metadata": {},
     "output_type": "execute_result"
    }
   ],
   "source": [
    "y.shape"
   ]
  },
  {
   "cell_type": "code",
   "execution_count": 22,
   "id": "8d3b3eba-96d6-4dc9-b0a5-5a12ddeb3c54",
   "metadata": {},
   "outputs": [],
   "source": [
    "X_rnn = X.reshape((13543, 5041, 3))"
   ]
  },
  {
   "cell_type": "markdown",
   "id": "669864fd-1c00-4511-b8c2-94eb7cd50b1c",
   "metadata": {},
   "source": [
    "### Base RNN Model"
   ]
  },
  {
   "cell_type": "code",
   "execution_count": 23,
   "id": "5bd79cb3-d62f-4188-adff-1fc20983187a",
   "metadata": {},
   "outputs": [],
   "source": [
    "from keras.layers.embeddings import Embedding\n",
    "from keras.layers import SimpleRNN"
   ]
  },
  {
   "cell_type": "code",
   "execution_count": 24,
   "id": "f8ac492a-a95c-4958-9994-87bf9e0f59ad",
   "metadata": {},
   "outputs": [
    {
     "name": "stdout",
     "output_type": "stream",
     "text": [
      "Model: \"sequential\"\n",
      "_________________________________________________________________\n",
      " Layer (type)                Output Shape              Param #   \n",
      "=================================================================\n",
      " simple_rnn (SimpleRNN)      (None, 32)                1152      \n",
      "                                                                 \n",
      " dense (Dense)               (None, 4)                 132       \n",
      "                                                                 \n",
      "=================================================================\n",
      "Total params: 1,284\n",
      "Trainable params: 1,284\n",
      "Non-trainable params: 0\n",
      "_________________________________________________________________\n"
     ]
    }
   ],
   "source": [
    "base_rnn = Sequential()\n",
    "base_rnn.add(SimpleRNN(units = 32, activation = 'relu', input_shape = (5041, 3)))\n",
    "base_rnn.add(Dense(units = 4, activation = \"relu\"))\n",
    "base_rnn.compile(optimizer = 'adam',\n",
    "              loss = 'binary_crossentropy',  \n",
    "              metrics = ['accuracy'])\n",
    "\n",
    "base_rnn.summary()"
   ]
  },
  {
   "cell_type": "code",
   "execution_count": 25,
   "id": "2024839f-bbcc-4c08-81a1-a16dd0b2879f",
   "metadata": {},
   "outputs": [],
   "source": [
    "base_rnn.compile(optimizer = \"adam\", loss = \"binary_crossentropy\", metrics = [\"accuracy\",\"binary_accuracy\"])"
   ]
  },
  {
   "cell_type": "code",
   "execution_count": 26,
   "id": "af7f25c4-2eda-47a9-8e40-7ddfc84475d4",
   "metadata": {},
   "outputs": [
    {
     "name": "stdout",
     "output_type": "stream",
     "text": [
      "Epoch 1/12\n",
      "80/80 [==============================] - 67s 825ms/step - loss: 5.2367 - accuracy: 0.1064 - binary_accuracy: 0.6424 - val_loss: 5.2321 - val_accuracy: 0.0936 - val_binary_accuracy: 0.6395\n",
      "Epoch 2/12\n",
      "80/80 [==============================] - 67s 831ms/step - loss: 5.8651 - accuracy: 0.2452 - binary_accuracy: 0.5933 - val_loss: 6.0539 - val_accuracy: 0.3213 - val_binary_accuracy: 0.5819\n",
      "Epoch 3/12\n",
      "80/80 [==============================] - 112s 1s/step - loss: 5.6662 - accuracy: 0.2006 - binary_accuracy: 0.6083 - val_loss: 5.7552 - val_accuracy: 0.1214 - val_binary_accuracy: 0.6017\n",
      "Epoch 4/12\n",
      "80/80 [==============================] - 66s 830ms/step - loss: 5.6335 - accuracy: 0.1371 - binary_accuracy: 0.6135 - val_loss: 5.7803 - val_accuracy: 0.3204 - val_binary_accuracy: 0.6037\n",
      "Epoch 5/12\n",
      "80/80 [==============================] - 363s 5s/step - loss: 4.2269 - accuracy: 0.3178 - binary_accuracy: 0.7088 - val_loss: 4.0342 - val_accuracy: 0.3281 - val_binary_accuracy: 0.7214\n",
      "Epoch 6/12\n",
      "80/80 [==============================] - 66s 830ms/step - loss: 3.8812 - accuracy: 0.3298 - binary_accuracy: 0.7338 - val_loss: 3.9733 - val_accuracy: 0.3387 - val_binary_accuracy: 0.7250\n",
      "Epoch 7/12\n",
      "80/80 [==============================] - 92s 1s/step - loss: 3.8451 - accuracy: 0.3297 - binary_accuracy: 0.7357 - val_loss: 3.9558 - val_accuracy: 0.3296 - val_binary_accuracy: 0.7268\n",
      "Epoch 8/12\n",
      "80/80 [==============================] - 67s 834ms/step - loss: 3.8288 - accuracy: 0.3316 - binary_accuracy: 0.7370 - val_loss: 3.9579 - val_accuracy: 0.3311 - val_binary_accuracy: 0.7270\n",
      "Epoch 9/12\n",
      "80/80 [==============================] - 67s 836ms/step - loss: 3.8148 - accuracy: 0.3326 - binary_accuracy: 0.7396 - val_loss: 3.9197 - val_accuracy: 0.3370 - val_binary_accuracy: 0.7293\n",
      "Epoch 10/12\n",
      "80/80 [==============================] - 67s 832ms/step - loss: 3.8044 - accuracy: 0.3333 - binary_accuracy: 0.7405 - val_loss: 3.9286 - val_accuracy: 0.3379 - val_binary_accuracy: 0.7295\n",
      "Epoch 11/12\n",
      "80/80 [==============================] - 67s 832ms/step - loss: 3.8016 - accuracy: 0.3330 - binary_accuracy: 0.7405 - val_loss: 3.9341 - val_accuracy: 0.3346 - val_binary_accuracy: 0.7310\n",
      "Epoch 12/12\n",
      "80/80 [==============================] - 83s 1s/step - loss: 3.7923 - accuracy: 0.3349 - binary_accuracy: 0.7409 - val_loss: 3.9155 - val_accuracy: 0.3393 - val_binary_accuracy: 0.7314\n",
      "CPU times: user 13min 7s, sys: 1min 5s, total: 14min 12s\n",
      "Wall time: 19min 42s\n"
     ]
    }
   ],
   "source": [
    "%%time \n",
    "\n",
    "history_1 = base_rnn.fit(X_rnn, y,\n",
    "                       validation_split = 0.25, \n",
    "                       epochs = 12, ## Change\n",
    "                       batch_size = 128);"
   ]
  },
  {
   "cell_type": "code",
   "execution_count": 27,
   "id": "c98df2d7-09fb-4e62-882d-8287b5e664d3",
   "metadata": {
    "tags": []
   },
   "outputs": [
    {
     "data": {
      "text/plain": [
       "(3771, 71, 71, 3)"
      ]
     },
     "execution_count": 27,
     "metadata": {},
     "output_type": "execute_result"
    }
   ],
   "source": [
    "X_t.shape"
   ]
  },
  {
   "cell_type": "code",
   "execution_count": 28,
   "id": "eb5754c4-fb4b-4a41-baa4-0ecd4daa4142",
   "metadata": {},
   "outputs": [],
   "source": [
    "X_t_rnn = X_t.reshape(3771, 5041, 3)"
   ]
  },
  {
   "cell_type": "code",
   "execution_count": 29,
   "id": "a4580b24-8f5c-4f1f-8e95-4b0cc62b6f03",
   "metadata": {},
   "outputs": [
    {
     "name": "stdout",
     "output_type": "stream",
     "text": [
      "30/30 [==============================] - 4s 144ms/step - loss: 2.5961 - accuracy: 0.4025 - binary_accuracy: 0.8166\n"
     ]
    },
    {
     "data": {
      "text/plain": [
       "[2.5961055755615234, 0.4025457501411438, 0.8165605664253235]"
      ]
     },
     "execution_count": 29,
     "metadata": {},
     "output_type": "execute_result"
    }
   ],
   "source": [
    "base_rnn.evaluate(X_t_rnn, y_t, batch_size = 128)"
   ]
  },
  {
   "cell_type": "code",
   "execution_count": 30,
   "id": "08eedd37-d78c-4ef7-b37f-915975f6274c",
   "metadata": {},
   "outputs": [],
   "source": [
    "y_pred = base_rnn.predict(X_t_rnn)"
   ]
  },
  {
   "cell_type": "code",
   "execution_count": 31,
   "id": "1fba8f73-f7ae-41b4-b7eb-724f0255689c",
   "metadata": {},
   "outputs": [],
   "source": [
    "df_0 = pd.DataFrame(y_pred, columns = ['Class_1', 'Class_2', 'Class_3', 'Class_4'])"
   ]
  },
  {
   "cell_type": "code",
   "execution_count": 32,
   "id": "4956e2da-88c4-4c47-88ec-bcd46b32bd24",
   "metadata": {},
   "outputs": [],
   "source": [
    "affected = (df_0 != 0).any(axis=1)\n",
    "nz = df_0[affected]\n",
    "df_0[affected] = (nz.T == nz.max(axis=1)).T.astype(int)"
   ]
  },
  {
   "cell_type": "code",
   "execution_count": 34,
   "id": "4c9f8f53-cb9d-4850-9d2b-6ac9953586de",
   "metadata": {},
   "outputs": [],
   "source": [
    "y_pred = y_pred.astype(int)\n",
    "df_test_1 = pd.DataFrame(y_t, columns = ['Class_1', 'Class_2', 'Class_3', 'Class_4'])"
   ]
  },
  {
   "cell_type": "code",
   "execution_count": 35,
   "id": "2711b5a8-38a0-4534-b920-b490600697f9",
   "metadata": {},
   "outputs": [
    {
     "data": {
      "text/html": [
       "<div>\n",
       "<style scoped>\n",
       "    .dataframe tbody tr th:only-of-type {\n",
       "        vertical-align: middle;\n",
       "    }\n",
       "\n",
       "    .dataframe tbody tr th {\n",
       "        vertical-align: top;\n",
       "    }\n",
       "\n",
       "    .dataframe thead th {\n",
       "        text-align: right;\n",
       "    }\n",
       "</style>\n",
       "<table border=\"1\" class=\"dataframe\">\n",
       "  <thead>\n",
       "    <tr style=\"text-align: right;\">\n",
       "      <th></th>\n",
       "      <th>Class_1</th>\n",
       "      <th>Class_2</th>\n",
       "      <th>Class_3</th>\n",
       "      <th>Class_4</th>\n",
       "    </tr>\n",
       "  </thead>\n",
       "  <tbody>\n",
       "    <tr>\n",
       "      <th>0</th>\n",
       "      <td>0.0</td>\n",
       "      <td>0.0</td>\n",
       "      <td>1.0</td>\n",
       "      <td>0.0</td>\n",
       "    </tr>\n",
       "    <tr>\n",
       "      <th>1</th>\n",
       "      <td>0.0</td>\n",
       "      <td>0.0</td>\n",
       "      <td>1.0</td>\n",
       "      <td>0.0</td>\n",
       "    </tr>\n",
       "    <tr>\n",
       "      <th>2</th>\n",
       "      <td>0.0</td>\n",
       "      <td>0.0</td>\n",
       "      <td>1.0</td>\n",
       "      <td>0.0</td>\n",
       "    </tr>\n",
       "    <tr>\n",
       "      <th>3</th>\n",
       "      <td>0.0</td>\n",
       "      <td>0.0</td>\n",
       "      <td>1.0</td>\n",
       "      <td>0.0</td>\n",
       "    </tr>\n",
       "    <tr>\n",
       "      <th>4</th>\n",
       "      <td>0.0</td>\n",
       "      <td>0.0</td>\n",
       "      <td>1.0</td>\n",
       "      <td>0.0</td>\n",
       "    </tr>\n",
       "  </tbody>\n",
       "</table>\n",
       "</div>"
      ],
      "text/plain": [
       "   Class_1  Class_2  Class_3  Class_4\n",
       "0      0.0      0.0      1.0      0.0\n",
       "1      0.0      0.0      1.0      0.0\n",
       "2      0.0      0.0      1.0      0.0\n",
       "3      0.0      0.0      1.0      0.0\n",
       "4      0.0      0.0      1.0      0.0"
      ]
     },
     "execution_count": 35,
     "metadata": {},
     "output_type": "execute_result"
    }
   ],
   "source": [
    "df_0.head()"
   ]
  },
  {
   "cell_type": "markdown",
   "id": "91462812-2441-4db2-9724-58dd2ea1ca37",
   "metadata": {
    "tags": []
   },
   "source": [
    "#### Base RNN Model: Class 1 Evaluation metrics"
   ]
  },
  {
   "cell_type": "code",
   "execution_count": 36,
   "id": "e0e28c24-6b8b-492f-ad4c-ad25677bc218",
   "metadata": {},
   "outputs": [
    {
     "name": "stdout",
     "output_type": "stream",
     "text": [
      "Precision for class 1: 0.167\n"
     ]
    }
   ],
   "source": [
    "print('Precision for class 1: %.3f' % precision_score(df_test_1['Class_1'], df_0['Class_1']))"
   ]
  },
  {
   "cell_type": "code",
   "execution_count": 37,
   "id": "f3a5ee17-58c0-419b-94bf-faa0e03ca153",
   "metadata": {},
   "outputs": [
    {
     "name": "stdout",
     "output_type": "stream",
     "text": [
      "Recall for class 1: 0.037\n"
     ]
    }
   ],
   "source": [
    "print('Recall for class 1: %.3f' % recall_score(df_test_1['Class_1'], df_0['Class_1']))"
   ]
  },
  {
   "cell_type": "code",
   "execution_count": 38,
   "id": "45786236-f7eb-4951-9ee6-eb96c4a7fda6",
   "metadata": {},
   "outputs": [
    {
     "name": "stdout",
     "output_type": "stream",
     "text": [
      "F1 Score: 0.061 for class 1\n"
     ]
    }
   ],
   "source": [
    "print('F1 Score: %.3f for class 1' % f1_score(df_test_1['Class_1'], df_0['Class_1']))"
   ]
  },
  {
   "cell_type": "markdown",
   "id": "9ed9fb05-b29a-446d-a367-4ab987e7a880",
   "metadata": {},
   "source": [
    "#### Base RNN Model: Class 2 Evaluation metrics"
   ]
  },
  {
   "cell_type": "code",
   "execution_count": 41,
   "id": "9f36f450-d427-43ec-b0f5-b3c67ee2cf96",
   "metadata": {},
   "outputs": [
    {
     "name": "stdout",
     "output_type": "stream",
     "text": [
      "Precision for class 2: 0.000\n"
     ]
    },
    {
     "name": "stderr",
     "output_type": "stream",
     "text": [
      "/Users/ali/miniforge3/envs/mlp/lib/python3.8/site-packages/sklearn/metrics/_classification.py:1318: UndefinedMetricWarning: Precision is ill-defined and being set to 0.0 due to no predicted samples. Use `zero_division` parameter to control this behavior.\n",
      "  _warn_prf(average, modifier, msg_start, len(result))\n"
     ]
    }
   ],
   "source": [
    "print('Precision for class 2: %.3f' % precision_score(df_test_1['Class_2'], df_0['Class_2']))"
   ]
  },
  {
   "cell_type": "code",
   "execution_count": 42,
   "id": "92aa0265-5ffc-42cc-95b1-df96120961a7",
   "metadata": {},
   "outputs": [
    {
     "name": "stdout",
     "output_type": "stream",
     "text": [
      "Recall for class 2: 0.000\n"
     ]
    }
   ],
   "source": [
    "print('Recall for class 2: %.3f' % recall_score(df_test_1['Class_2'], df_0['Class_2']))"
   ]
  },
  {
   "cell_type": "code",
   "execution_count": 43,
   "id": "d196a36b-a292-485c-a1ab-b13e6a516e0e",
   "metadata": {},
   "outputs": [
    {
     "name": "stdout",
     "output_type": "stream",
     "text": [
      "F1 Score for class 2: 0.000\n"
     ]
    }
   ],
   "source": [
    "print('F1 Score for class 2: %.3f' % f1_score(df_test_1['Class_2'], df_0['Class_2']))"
   ]
  },
  {
   "cell_type": "markdown",
   "id": "d94ea78c-22d9-4738-a8e0-5aa2afd0708e",
   "metadata": {
    "tags": []
   },
   "source": [
    "#### Base RNN Model: Class 3 Evaluation metrics"
   ]
  },
  {
   "cell_type": "code",
   "execution_count": 44,
   "id": "719f1929-f746-4fae-b7da-8d08450c4299",
   "metadata": {},
   "outputs": [
    {
     "name": "stdout",
     "output_type": "stream",
     "text": [
      "Precision for class 3: 0.402\n"
     ]
    }
   ],
   "source": [
    "print('Precision for class 3: %.3f' % precision_score(df_test_1['Class_3'], df_0['Class_3']))"
   ]
  },
  {
   "cell_type": "code",
   "execution_count": 45,
   "id": "50c207be-f7ea-4c2a-b916-0239618a3807",
   "metadata": {},
   "outputs": [
    {
     "name": "stdout",
     "output_type": "stream",
     "text": [
      "Precision for class 3: 0.975\n"
     ]
    }
   ],
   "source": [
    "print('Precision for class 3: %.3f' % recall_score(df_test_1['Class_3'], df_0['Class_3']))"
   ]
  },
  {
   "cell_type": "code",
   "execution_count": 46,
   "id": "b386f37c-dcf3-4e4b-b5e5-8ddfd386e1b0",
   "metadata": {},
   "outputs": [
    {
     "name": "stdout",
     "output_type": "stream",
     "text": [
      "Precision for class 3: 0.569\n"
     ]
    }
   ],
   "source": [
    "print('Precision for class 3: %.3f' % f1_score(df_test_1['Class_3'], df_0['Class_3']))"
   ]
  },
  {
   "cell_type": "markdown",
   "id": "b6d8b2cd-8d58-4c7d-8409-9ee83d6638ba",
   "metadata": {
    "tags": []
   },
   "source": [
    "#### Base RNN Model: Class 4 Evaluation metrics"
   ]
  },
  {
   "cell_type": "code",
   "execution_count": 47,
   "id": "2d96af73-7092-4986-8551-122c6d625239",
   "metadata": {},
   "outputs": [
    {
     "name": "stdout",
     "output_type": "stream",
     "text": [
      "Precision for class 4: 0.133\n"
     ]
    }
   ],
   "source": [
    "print('Precision for class 4: %.3f' % precision_score(df_test_1['Class_4'], df_0['Class_4']))"
   ]
  },
  {
   "cell_type": "code",
   "execution_count": 48,
   "id": "b8265e19-5a44-4ca8-b2c3-bd03eec844a9",
   "metadata": {},
   "outputs": [
    {
     "name": "stdout",
     "output_type": "stream",
     "text": [
      "Precision for class 4: 0.009\n"
     ]
    }
   ],
   "source": [
    "print('Precision for class 4: %.3f' % recall_score(df_test_1['Class_4'], df_0['Class_4']))"
   ]
  },
  {
   "cell_type": "code",
   "execution_count": 49,
   "id": "1560d38b-8778-4def-9313-c793711f9c01",
   "metadata": {},
   "outputs": [
    {
     "name": "stdout",
     "output_type": "stream",
     "text": [
      "Precision for class 4: 0.016\n"
     ]
    }
   ],
   "source": [
    "print('Precision for class 4: %.3f' % f1_score(df_test_1['Class_4'], df_0['Class_4']))"
   ]
  },
  {
   "cell_type": "markdown",
   "id": "b272e095-01b4-4e9c-a6bf-3c4d24e00643",
   "metadata": {},
   "source": [
    "#### Further Model Evaluation"
   ]
  },
  {
   "cell_type": "code",
   "execution_count": 50,
   "id": "dd0ad67b-1095-45b1-895a-67e29b25163c",
   "metadata": {},
   "outputs": [
    {
     "data": {
      "text/html": [
       "<div>\n",
       "<style scoped>\n",
       "    .dataframe tbody tr th:only-of-type {\n",
       "        vertical-align: middle;\n",
       "    }\n",
       "\n",
       "    .dataframe tbody tr th {\n",
       "        vertical-align: top;\n",
       "    }\n",
       "\n",
       "    .dataframe thead th {\n",
       "        text-align: right;\n",
       "    }\n",
       "</style>\n",
       "<table border=\"1\" class=\"dataframe\">\n",
       "  <thead>\n",
       "    <tr style=\"text-align: right;\">\n",
       "      <th></th>\n",
       "      <th>loss</th>\n",
       "      <th>accuracy</th>\n",
       "      <th>binary_accuracy</th>\n",
       "      <th>val_loss</th>\n",
       "      <th>val_accuracy</th>\n",
       "      <th>val_binary_accuracy</th>\n",
       "    </tr>\n",
       "  </thead>\n",
       "  <tbody>\n",
       "    <tr>\n",
       "      <th>1</th>\n",
       "      <td>5.236731</td>\n",
       "      <td>0.106429</td>\n",
       "      <td>0.642365</td>\n",
       "      <td>5.232104</td>\n",
       "      <td>0.093621</td>\n",
       "      <td>0.639471</td>\n",
       "    </tr>\n",
       "    <tr>\n",
       "      <th>2</th>\n",
       "      <td>5.865085</td>\n",
       "      <td>0.245151</td>\n",
       "      <td>0.593261</td>\n",
       "      <td>6.053938</td>\n",
       "      <td>0.321323</td>\n",
       "      <td>0.581881</td>\n",
       "    </tr>\n",
       "    <tr>\n",
       "      <th>3</th>\n",
       "      <td>5.666201</td>\n",
       "      <td>0.200551</td>\n",
       "      <td>0.608250</td>\n",
       "      <td>5.755183</td>\n",
       "      <td>0.121382</td>\n",
       "      <td>0.601742</td>\n",
       "    </tr>\n",
       "    <tr>\n",
       "      <th>4</th>\n",
       "      <td>5.633504</td>\n",
       "      <td>0.137147</td>\n",
       "      <td>0.613493</td>\n",
       "      <td>5.780274</td>\n",
       "      <td>0.320437</td>\n",
       "      <td>0.603736</td>\n",
       "    </tr>\n",
       "    <tr>\n",
       "      <th>5</th>\n",
       "      <td>4.226892</td>\n",
       "      <td>0.317810</td>\n",
       "      <td>0.708797</td>\n",
       "      <td>4.034151</td>\n",
       "      <td>0.328116</td>\n",
       "      <td>0.721426</td>\n",
       "    </tr>\n",
       "  </tbody>\n",
       "</table>\n",
       "</div>"
      ],
      "text/plain": [
       "       loss  accuracy  binary_accuracy  val_loss  val_accuracy  \\\n",
       "1  5.236731  0.106429         0.642365  5.232104      0.093621   \n",
       "2  5.865085  0.245151         0.593261  6.053938      0.321323   \n",
       "3  5.666201  0.200551         0.608250  5.755183      0.121382   \n",
       "4  5.633504  0.137147         0.613493  5.780274      0.320437   \n",
       "5  4.226892  0.317810         0.708797  4.034151      0.328116   \n",
       "\n",
       "   val_binary_accuracy  \n",
       "1             0.639471  \n",
       "2             0.581881  \n",
       "3             0.601742  \n",
       "4             0.603736  \n",
       "5             0.721426  "
      ]
     },
     "execution_count": 50,
     "metadata": {},
     "output_type": "execute_result"
    }
   ],
   "source": [
    "history_df = pd.DataFrame(history_1.history)\n",
    "history_df.index += 1\n",
    "history_df.head()"
   ]
  },
  {
   "cell_type": "code",
   "execution_count": 51,
   "id": "4275860a-b69d-4fdb-8ca7-8dfbb5e39848",
   "metadata": {},
   "outputs": [
    {
     "data": {
      "image/png": "[encoded data removed]",
      "text/plain": [
       "<Figure size 720x432 with 1 Axes>"
      ]
     },
     "metadata": {
      "needs_background": "light"
     },
     "output_type": "display_data"
    }
   ],
   "source": [
    "plt.subplots(figsize=(10,6))\n",
    "plt.plot(history_df.loc[:, ['loss','val_loss']], lw = 2)\n",
    "plt.title('Loss (Binary Cross Entropy)', fontsize=20)\n",
    "plt.legend(['Training Loss','Validation Loss'], fontsize = 12, loc=1)\n",
    "plt.grid()\n",
    "plt.show()"
   ]
  },
  {
   "cell_type": "code",
   "execution_count": 52,
   "id": "9fe683e7-e4c3-4e57-90e7-6a5255d51978",
   "metadata": {},
   "outputs": [
    {
     "data": {
      "image/png": "[encoded data removed]",
      "text/plain": [
       "<Figure size 720x432 with 1 Axes>"
      ]
     },
     "metadata": {
      "needs_background": "light"
     },
     "output_type": "display_data"
    }
   ],
   "source": [
    "plt.subplots(figsize=(10,6))\n",
    "plt.plot(history_df.loc[:, ['binary_accuracy','val_binary_accuracy']], lw = 2)\n",
    "plt.title('Binary Accuracy', fontsize=20)\n",
    "plt.legend(['Training Binary Accuracy','Validation Binary Accuracy'], fontsize = 10, loc=4)\n",
    "plt.grid()\n",
    "plt.show()"
   ]
  },
  {
   "cell_type": "code",
   "execution_count": 53,
   "id": "bca468d5-21e9-4476-ab4e-192e525f70a9",
   "metadata": {},
   "outputs": [
    {
     "data": {
      "image/png": "[encoded data removed]",
      "text/plain": [
       "<Figure size 720x432 with 1 Axes>"
      ]
     },
     "metadata": {
      "needs_background": "light"
     },
     "output_type": "display_data"
    }
   ],
   "source": [
    "plt.subplots(figsize=(10,6))\n",
    "plt.plot(history_df.loc[:, ['accuracy','val_accuracy']], lw = 2)\n",
    "plt.title('Accuracy', fontsize=20)\n",
    "plt.legend(['Training Accuracy','Validation Accuracy'], fontsize=12, loc=4)\n",
    "plt.grid()\n",
    "plt.show()"
   ]
  },
  {
   "cell_type": "markdown",
   "id": "1f0920f6-f40a-4c6f-88a1-49f3142c6c89",
   "metadata": {},
   "source": [
    "### RNN Model using standard parameters"
   ]
  },
  {
   "cell_type": "code",
   "execution_count": 54,
   "id": "a289b0f6-54c2-49f7-bf68-6e2f6f23972e",
   "metadata": {},
   "outputs": [
    {
     "name": "stdout",
     "output_type": "stream",
     "text": [
      "Model: \"sequential_1\"\n",
      "_________________________________________________________________\n",
      " Layer (type)                Output Shape              Param #   \n",
      "=================================================================\n",
      " lstm (LSTM)                 (None, 5041, 1)           20        \n",
      "                                                                 \n",
      " dense_1 (Dense)             (None, 5041, 4)           8         \n",
      "                                                                 \n",
      " dense_2 (Dense)             (None, 5041, 128)         640       \n",
      "                                                                 \n",
      " dropout (Dropout)           (None, 5041, 128)         0         \n",
      "                                                                 \n",
      " flatten (Flatten)           (None, 645248)            0         \n",
      "                                                                 \n",
      " dense_3 (Dense)             (None, 52)                33552948  \n",
      "                                                                 \n",
      " dropout_1 (Dropout)         (None, 52)                0         \n",
      "                                                                 \n",
      " dense_4 (Dense)             (None, 52)                2756      \n",
      "                                                                 \n",
      " dropout_2 (Dropout)         (None, 52)                0         \n",
      "                                                                 \n",
      " dense_5 (Dense)             (None, 4)                 212       \n",
      "                                                                 \n",
      "=================================================================\n",
      "Total params: 33,556,584\n",
      "Trainable params: 33,556,584\n",
      "Non-trainable params: 0\n",
      "_________________________________________________________________\n"
     ]
    }
   ],
   "source": [
    "model = Sequential()\n",
    "model.add(LSTM(1, input_shape = (5041, 3), return_sequences = True))\n",
    "model.add(Dense(units = 4, activation=\"relu\"))\n",
    "model.add(Dense(128, activation=\"relu\"))\n",
    "model.add(Dropout(0.5))\n",
    "model.add(Flatten())\n",
    "model.add(Dense(52,activation=\"relu\"))\n",
    "model.add(Dropout(0.5))\n",
    "model.add(Dense(52,activation=\"relu\"))\n",
    "model.add(Dropout(0.5))\n",
    "model.add(Dense(4,activation=\"sigmoid\"))\n",
    "\n",
    "model.summary()"
   ]
  },
  {
   "cell_type": "code",
   "execution_count": 55,
   "id": "ce12a61c-dc28-44b5-8109-896173f9a839",
   "metadata": {},
   "outputs": [],
   "source": [
    "model.compile(optimizer=\"adam\", loss=\"binary_crossentropy\", metrics=[\"accuracy\",\"binary_accuracy\"])"
   ]
  },
  {
   "cell_type": "code",
   "execution_count": 56,
   "id": "2f3d3b73-f3d0-470f-b70b-ff1746400501",
   "metadata": {},
   "outputs": [],
   "source": [
    "early_stopping = EarlyStopping()"
   ]
  },
  {
   "cell_type": "code",
   "execution_count": 57,
   "id": "d120b5f3-73e3-4512-bf91-f686c4cdf875",
   "metadata": {},
   "outputs": [
    {
     "name": "stdout",
     "output_type": "stream",
     "text": [
      "Epoch 1/12\n",
      "80/80 [==============================] - 142s 2s/step - loss: 0.5688 - accuracy: 0.3476 - binary_accuracy: 0.7373 - val_loss: 0.4667 - val_accuracy: 0.3630 - val_binary_accuracy: 0.7871\n",
      "Epoch 2/12\n",
      "80/80 [==============================] - 140s 2s/step - loss: 0.5055 - accuracy: 0.3530 - binary_accuracy: 0.7715 - val_loss: 0.4533 - val_accuracy: 0.3698 - val_binary_accuracy: 0.7871\n",
      "Epoch 3/12\n",
      "80/80 [==============================] - 141s 2s/step - loss: 0.4806 - accuracy: 0.3659 - binary_accuracy: 0.7768 - val_loss: 0.4387 - val_accuracy: 0.3928 - val_binary_accuracy: 0.7871\n",
      "Epoch 4/12\n",
      "80/80 [==============================] - 140s 2s/step - loss: 0.4654 - accuracy: 0.3784 - binary_accuracy: 0.7793 - val_loss: 0.4278 - val_accuracy: 0.3907 - val_binary_accuracy: 0.7934\n",
      "Epoch 5/12\n",
      "80/80 [==============================] - 140s 2s/step - loss: 0.4534 - accuracy: 0.3928 - binary_accuracy: 0.7844 - val_loss: 0.4208 - val_accuracy: 0.4309 - val_binary_accuracy: 0.7936\n",
      "Epoch 6/12\n",
      "80/80 [==============================] - 138s 2s/step - loss: 0.4420 - accuracy: 0.3972 - binary_accuracy: 0.7868 - val_loss: 0.4179 - val_accuracy: 0.4058 - val_binary_accuracy: 0.7994\n",
      "Epoch 7/12\n",
      "80/80 [==============================] - 139s 2s/step - loss: 0.4373 - accuracy: 0.4024 - binary_accuracy: 0.7875 - val_loss: 0.4153 - val_accuracy: 0.4374 - val_binary_accuracy: 0.7952\n",
      "Epoch 8/12\n",
      "80/80 [==============================] - 139s 2s/step - loss: 0.4326 - accuracy: 0.4081 - binary_accuracy: 0.7908 - val_loss: 0.4108 - val_accuracy: 0.4498 - val_binary_accuracy: 0.8019\n",
      "Epoch 9/12\n",
      "80/80 [==============================] - 137s 2s/step - loss: 0.4228 - accuracy: 0.4191 - binary_accuracy: 0.7929 - val_loss: 0.4082 - val_accuracy: 0.4584 - val_binary_accuracy: 0.8067\n",
      "Epoch 10/12\n",
      "80/80 [==============================] - 139s 2s/step - loss: 0.4206 - accuracy: 0.4203 - binary_accuracy: 0.7942 - val_loss: 0.4102 - val_accuracy: 0.4616 - val_binary_accuracy: 0.8069\n",
      "Epoch 11/12\n",
      "80/80 [==============================] - 138s 2s/step - loss: 0.4163 - accuracy: 0.4256 - binary_accuracy: 0.7956 - val_loss: 0.4069 - val_accuracy: 0.4708 - val_binary_accuracy: 0.8072\n",
      "Epoch 12/12\n",
      "80/80 [==============================] - 140s 2s/step - loss: 0.4163 - accuracy: 0.4222 - binary_accuracy: 0.7944 - val_loss: 0.4103 - val_accuracy: 0.4784 - val_binary_accuracy: 0.8026\n"
     ]
    }
   ],
   "source": [
    "history_2 = model.fit(X_rnn, y,\n",
    "                      validation_split = 0.25, \n",
    "                      epochs = 12, # Change\n",
    "                      batch_size = 128\n",
    "                      ); "
   ]
  },
  {
   "cell_type": "code",
   "execution_count": 58,
   "id": "fb143bab-3f84-42ee-96c4-e4dd7d0efd89",
   "metadata": {},
   "outputs": [
    {
     "name": "stdout",
     "output_type": "stream",
     "text": [
      "30/30 [==============================] - 8s 268ms/step - loss: 0.3219 - accuracy: 0.4346 - binary_accuracy: 0.8713\n"
     ]
    },
    {
     "data": {
      "text/plain": [
       "[0.32187962532043457, 0.43463271856307983, 0.8713206052780151]"
      ]
     },
     "execution_count": 58,
     "metadata": {},
     "output_type": "execute_result"
    }
   ],
   "source": [
    "model.evaluate(X_t_rnn, y_t, batch_size = 128)"
   ]
  },
  {
   "cell_type": "code",
   "execution_count": 59,
   "id": "2aa8f931-2cfe-4149-8361-036f09d3f100",
   "metadata": {},
   "outputs": [],
   "source": [
    "y_pred = model.predict(X_t_rnn)"
   ]
  },
  {
   "cell_type": "code",
   "execution_count": 60,
   "id": "22c4037d-7df5-4c22-aafb-e45940ea07a6",
   "metadata": {},
   "outputs": [],
   "source": [
    "df = pd.DataFrame(y_pred, columns = ['Class_1','Class_2','Class_3', 'Class_4'])"
   ]
  },
  {
   "cell_type": "code",
   "execution_count": 61,
   "id": "b24d0d31-a45b-4c10-95e2-3742a3fc49ed",
   "metadata": {},
   "outputs": [],
   "source": [
    "affected = (df != 0).any(axis=1)\n",
    "nz = df[affected]\n",
    "df[affected] = (nz.T == nz.max(axis=1)).T.astype(int)"
   ]
  },
  {
   "cell_type": "code",
   "execution_count": 63,
   "id": "707a6cd0-674f-4336-b3c9-67d11b46ff0a",
   "metadata": {},
   "outputs": [],
   "source": [
    "y_pred = y_pred.astype(int)\n",
    "df_test_1 = pd.DataFrame(y_t, columns = ['Class_1','Class_2','Class_3', 'Class_4'])"
   ]
  },
  {
   "cell_type": "code",
   "execution_count": 64,
   "id": "b6d21bde-e0f5-4d46-83c3-a1659d39c240",
   "metadata": {},
   "outputs": [
    {
     "data": {
      "text/html": [
       "<div>\n",
       "<style scoped>\n",
       "    .dataframe tbody tr th:only-of-type {\n",
       "        vertical-align: middle;\n",
       "    }\n",
       "\n",
       "    .dataframe tbody tr th {\n",
       "        vertical-align: top;\n",
       "    }\n",
       "\n",
       "    .dataframe thead th {\n",
       "        text-align: right;\n",
       "    }\n",
       "</style>\n",
       "<table border=\"1\" class=\"dataframe\">\n",
       "  <thead>\n",
       "    <tr style=\"text-align: right;\">\n",
       "      <th></th>\n",
       "      <th>Class_1</th>\n",
       "      <th>Class_2</th>\n",
       "      <th>Class_3</th>\n",
       "      <th>Class_4</th>\n",
       "    </tr>\n",
       "  </thead>\n",
       "  <tbody>\n",
       "    <tr>\n",
       "      <th>0</th>\n",
       "      <td>0.0</td>\n",
       "      <td>0.0</td>\n",
       "      <td>1.0</td>\n",
       "      <td>0.0</td>\n",
       "    </tr>\n",
       "    <tr>\n",
       "      <th>1</th>\n",
       "      <td>0.0</td>\n",
       "      <td>1.0</td>\n",
       "      <td>0.0</td>\n",
       "      <td>0.0</td>\n",
       "    </tr>\n",
       "    <tr>\n",
       "      <th>2</th>\n",
       "      <td>0.0</td>\n",
       "      <td>0.0</td>\n",
       "      <td>1.0</td>\n",
       "      <td>0.0</td>\n",
       "    </tr>\n",
       "    <tr>\n",
       "      <th>3</th>\n",
       "      <td>0.0</td>\n",
       "      <td>0.0</td>\n",
       "      <td>1.0</td>\n",
       "      <td>0.0</td>\n",
       "    </tr>\n",
       "    <tr>\n",
       "      <th>4</th>\n",
       "      <td>0.0</td>\n",
       "      <td>0.0</td>\n",
       "      <td>1.0</td>\n",
       "      <td>0.0</td>\n",
       "    </tr>\n",
       "  </tbody>\n",
       "</table>\n",
       "</div>"
      ],
      "text/plain": [
       "   Class_1  Class_2  Class_3  Class_4\n",
       "0      0.0      0.0      1.0      0.0\n",
       "1      0.0      1.0      0.0      0.0\n",
       "2      0.0      0.0      1.0      0.0\n",
       "3      0.0      0.0      1.0      0.0\n",
       "4      0.0      0.0      1.0      0.0"
      ]
     },
     "execution_count": 64,
     "metadata": {},
     "output_type": "execute_result"
    }
   ],
   "source": [
    "df.head()"
   ]
  },
  {
   "cell_type": "markdown",
   "id": "4fce4dd1-5c72-4355-9c4b-26c8bab1fad5",
   "metadata": {},
   "source": [
    "#### RNN Model 2: Class 1 Evaluation metrics"
   ]
  },
  {
   "cell_type": "code",
   "execution_count": 65,
   "id": "4840496f-43db-4ade-8c05-54faabee5cff",
   "metadata": {},
   "outputs": [
    {
     "name": "stdout",
     "output_type": "stream",
     "text": [
      "Precision for class 1: 0.432\n"
     ]
    }
   ],
   "source": [
    "print('Precision for class 1: %.3f' % precision_score(df_test_1['Class_1'], df['Class_1']))"
   ]
  },
  {
   "cell_type": "code",
   "execution_count": 66,
   "id": "231ee245-4cc3-4e1a-8de1-a42923ebfe20",
   "metadata": {},
   "outputs": [
    {
     "name": "stdout",
     "output_type": "stream",
     "text": [
      "Recall for class 1: 0.329\n"
     ]
    }
   ],
   "source": [
    "print('Recall for class 1: %.3f' % recall_score(df_test_1['Class_1'], df['Class_1']))"
   ]
  },
  {
   "cell_type": "code",
   "execution_count": 67,
   "id": "e2a0f6ff-926b-4683-ba00-c491e5fbafa8",
   "metadata": {},
   "outputs": [
    {
     "name": "stdout",
     "output_type": "stream",
     "text": [
      "F1 Score: 0.374 for class 1\n"
     ]
    }
   ],
   "source": [
    "print('F1 Score: %.3f for class 1' % f1_score(df_test_1['Class_1'], df['Class_1']))"
   ]
  },
  {
   "cell_type": "markdown",
   "id": "b692cc68-38dc-49b6-8f72-609edd987c1d",
   "metadata": {},
   "source": [
    "#### RNN Model 2: Class 2 Evaluation metrics"
   ]
  },
  {
   "cell_type": "code",
   "execution_count": 68,
   "id": "a9737ab2-a230-4a9f-ab0e-336f1de8075f",
   "metadata": {},
   "outputs": [
    {
     "name": "stdout",
     "output_type": "stream",
     "text": [
      "Precision for class 2: 0.330\n"
     ]
    }
   ],
   "source": [
    "print('Precision for class 2: %.3f' % precision_score(df_test_1['Class_2'], df['Class_2']))"
   ]
  },
  {
   "cell_type": "code",
   "execution_count": 69,
   "id": "05d3c914-58c5-4e80-b274-0a4cd9e04c61",
   "metadata": {},
   "outputs": [
    {
     "name": "stdout",
     "output_type": "stream",
     "text": [
      "Precision for class 2: 0.863\n"
     ]
    }
   ],
   "source": [
    "print('Precision for class 2: %.3f' % recall_score(df_test_1['Class_2'], df['Class_2']))"
   ]
  },
  {
   "cell_type": "code",
   "execution_count": 70,
   "id": "fb127580-7d34-4ff1-a0cb-1c5744349d39",
   "metadata": {},
   "outputs": [
    {
     "name": "stdout",
     "output_type": "stream",
     "text": [
      "Precision for class 2: 0.477\n"
     ]
    }
   ],
   "source": [
    "print('Precision for class 2: %.3f' % f1_score(df_test_1['Class_2'], df['Class_2']))"
   ]
  },
  {
   "cell_type": "markdown",
   "id": "f6b57215-b199-4ef0-9222-76401a9933b4",
   "metadata": {},
   "source": [
    "#### RNN Model 2: Class 3 Evaluation metrics"
   ]
  },
  {
   "cell_type": "code",
   "execution_count": 71,
   "id": "0847c060-bb81-4ad1-ba45-802f3c2af698",
   "metadata": {},
   "outputs": [
    {
     "name": "stdout",
     "output_type": "stream",
     "text": [
      "Precision for class 3: 0.425\n"
     ]
    }
   ],
   "source": [
    "print('Precision for class 3: %.3f' % precision_score(df_test_1['Class_3'], df['Class_3']))"
   ]
  },
  {
   "cell_type": "code",
   "execution_count": 72,
   "id": "cc7ecc07-ff68-4b04-b195-827533c5a822",
   "metadata": {},
   "outputs": [
    {
     "name": "stdout",
     "output_type": "stream",
     "text": [
      "Precision for class 3: 0.959\n"
     ]
    }
   ],
   "source": [
    "print('Precision for class 3: %.3f' % recall_score(df_test_1['Class_3'], df['Class_3']))"
   ]
  },
  {
   "cell_type": "code",
   "execution_count": 73,
   "id": "6d93ad42-2986-4101-9bee-ce4fd7dff6af",
   "metadata": {},
   "outputs": [
    {
     "name": "stdout",
     "output_type": "stream",
     "text": [
      "Precision for class 3: 0.589\n"
     ]
    }
   ],
   "source": [
    "print('Precision for class 3: %.3f' % f1_score(df_test_1['Class_3'], df['Class_3']))"
   ]
  },
  {
   "cell_type": "markdown",
   "id": "aad384bc-1afd-413c-b279-802570cd1e45",
   "metadata": {},
   "source": [
    "#### RNN Model 2: Class 4 Evaluation metrics"
   ]
  },
  {
   "cell_type": "code",
   "execution_count": 74,
   "id": "18c71c8b-1d6d-4bf0-86fc-a1f255b96755",
   "metadata": {},
   "outputs": [
    {
     "name": "stdout",
     "output_type": "stream",
     "text": [
      "Precision for class 4: 0.000\n"
     ]
    },
    {
     "name": "stderr",
     "output_type": "stream",
     "text": [
      "/Users/ali/miniforge3/envs/mlp/lib/python3.8/site-packages/sklearn/metrics/_classification.py:1318: UndefinedMetricWarning: Precision is ill-defined and being set to 0.0 due to no predicted samples. Use `zero_division` parameter to control this behavior.\n",
      "  _warn_prf(average, modifier, msg_start, len(result))\n"
     ]
    }
   ],
   "source": [
    "print('Precision for class 4: %.3f' % precision_score(df_test_1['Class_4'], df['Class_4']))"
   ]
  },
  {
   "cell_type": "code",
   "execution_count": 75,
   "id": "17a62bf8-5eb3-4102-84fc-47bdd3a206cf",
   "metadata": {},
   "outputs": [
    {
     "name": "stdout",
     "output_type": "stream",
     "text": [
      "Precision for class 4: 0.000\n"
     ]
    }
   ],
   "source": [
    "print('Precision for class 4: %.3f' % recall_score(df_test_1['Class_4'], df['Class_4']))"
   ]
  },
  {
   "cell_type": "code",
   "execution_count": 76,
   "id": "f0766175-a7ac-4050-bff1-e9d638dd9016",
   "metadata": {},
   "outputs": [
    {
     "name": "stdout",
     "output_type": "stream",
     "text": [
      "Precision for class 4: 0.000\n"
     ]
    }
   ],
   "source": [
    "print('Precision for class 4: %.3f' % f1_score(df_test_1['Class_4'], df['Class_4']))"
   ]
  },
  {
   "cell_type": "markdown",
   "id": "7744463d-182a-406d-84fb-02c48f36f9b4",
   "metadata": {},
   "source": [
    "#### Further Model Evaluation"
   ]
  },
  {
   "cell_type": "code",
   "execution_count": 77,
   "id": "3d236592-7272-42cc-9701-70bbc273cdaf",
   "metadata": {},
   "outputs": [
    {
     "data": {
      "text/html": [
       "<div>\n",
       "<style scoped>\n",
       "    .dataframe tbody tr th:only-of-type {\n",
       "        vertical-align: middle;\n",
       "    }\n",
       "\n",
       "    .dataframe tbody tr th {\n",
       "        vertical-align: top;\n",
       "    }\n",
       "\n",
       "    .dataframe thead th {\n",
       "        text-align: right;\n",
       "    }\n",
       "</style>\n",
       "<table border=\"1\" class=\"dataframe\">\n",
       "  <thead>\n",
       "    <tr style=\"text-align: right;\">\n",
       "      <th></th>\n",
       "      <th>loss</th>\n",
       "      <th>accuracy</th>\n",
       "      <th>binary_accuracy</th>\n",
       "      <th>val_loss</th>\n",
       "      <th>val_accuracy</th>\n",
       "      <th>val_binary_accuracy</th>\n",
       "    </tr>\n",
       "  </thead>\n",
       "  <tbody>\n",
       "    <tr>\n",
       "      <th>1</th>\n",
       "      <td>0.568831</td>\n",
       "      <td>0.347642</td>\n",
       "      <td>0.737299</td>\n",
       "      <td>0.466737</td>\n",
       "      <td>0.362965</td>\n",
       "      <td>0.787138</td>\n",
       "    </tr>\n",
       "    <tr>\n",
       "      <th>2</th>\n",
       "      <td>0.505519</td>\n",
       "      <td>0.352959</td>\n",
       "      <td>0.771537</td>\n",
       "      <td>0.453308</td>\n",
       "      <td>0.369758</td>\n",
       "      <td>0.787138</td>\n",
       "    </tr>\n",
       "    <tr>\n",
       "      <th>3</th>\n",
       "      <td>0.480582</td>\n",
       "      <td>0.365856</td>\n",
       "      <td>0.776804</td>\n",
       "      <td>0.438727</td>\n",
       "      <td>0.392794</td>\n",
       "      <td>0.787138</td>\n",
       "    </tr>\n",
       "    <tr>\n",
       "      <th>4</th>\n",
       "      <td>0.465388</td>\n",
       "      <td>0.378360</td>\n",
       "      <td>0.779266</td>\n",
       "      <td>0.427841</td>\n",
       "      <td>0.390727</td>\n",
       "      <td>0.793414</td>\n",
       "    </tr>\n",
       "    <tr>\n",
       "      <th>5</th>\n",
       "      <td>0.453399</td>\n",
       "      <td>0.392833</td>\n",
       "      <td>0.784434</td>\n",
       "      <td>0.420798</td>\n",
       "      <td>0.430892</td>\n",
       "      <td>0.793636</td>\n",
       "    </tr>\n",
       "  </tbody>\n",
       "</table>\n",
       "</div>"
      ],
      "text/plain": [
       "       loss  accuracy  binary_accuracy  val_loss  val_accuracy  \\\n",
       "1  0.568831  0.347642         0.737299  0.466737      0.362965   \n",
       "2  0.505519  0.352959         0.771537  0.453308      0.369758   \n",
       "3  0.480582  0.365856         0.776804  0.438727      0.392794   \n",
       "4  0.465388  0.378360         0.779266  0.427841      0.390727   \n",
       "5  0.453399  0.392833         0.784434  0.420798      0.430892   \n",
       "\n",
       "   val_binary_accuracy  \n",
       "1             0.787138  \n",
       "2             0.787138  \n",
       "3             0.787138  \n",
       "4             0.793414  \n",
       "5             0.793636  "
      ]
     },
     "execution_count": 77,
     "metadata": {},
     "output_type": "execute_result"
    }
   ],
   "source": [
    "history_df_1 = pd.DataFrame(history_2.history)\n",
    "history_df_1.index += 1\n",
    "history_df_1.head()"
   ]
  },
  {
   "cell_type": "code",
   "execution_count": 78,
   "id": "455f00c7-48d7-49a3-994a-b6e4681109d0",
   "metadata": {},
   "outputs": [
    {
     "data": {
      "image/png": "[encoded data removed]",
      "text/plain": [
       "<Figure size 720x432 with 1 Axes>"
      ]
     },
     "metadata": {
      "needs_background": "light"
     },
     "output_type": "display_data"
    }
   ],
   "source": [
    "plt.subplots(figsize=(10,6))\n",
    "plt.plot(history_df_1.loc[:, ['loss','val_loss']], lw = 2)\n",
    "plt.title('Loss (Binary Cross Entropy)', fontsize=20)\n",
    "plt.legend(['Training Loss','Validation Loss'], fontsize = 10, loc=1)\n",
    "plt.grid()\n",
    "plt.show()"
   ]
  },
  {
   "cell_type": "code",
   "execution_count": 79,
   "id": "69b096cf-3327-4f56-a7b6-dcedc7940f76",
   "metadata": {},
   "outputs": [
    {
     "data": {
      "image/png": "[encoded data removed]",
      "text/plain": [
       "<Figure size 720x432 with 1 Axes>"
      ]
     },
     "metadata": {
      "needs_background": "light"
     },
     "output_type": "display_data"
    }
   ],
   "source": [
    "plt.subplots(figsize=(10,6))\n",
    "plt.plot(history_df_1.loc[:, ['binary_accuracy','val_binary_accuracy']], lw = 2)\n",
    "plt.title('Binary Accuracy', fontsize=20)\n",
    "plt.legend(['Training Binary Accuracy','Validation Binary Accuracy'], fontsize = 10, loc=4)\n",
    "plt.grid()\n",
    "plt.show()"
   ]
  },
  {
   "cell_type": "code",
   "execution_count": 80,
   "id": "331fb39e-452b-45a3-ab0d-ee6e45213609",
   "metadata": {},
   "outputs": [
    {
     "data": {
      "image/png": "[encoded data removed]",
      "text/plain": [
       "<Figure size 720x432 with 1 Axes>"
      ]
     },
     "metadata": {
      "needs_background": "light"
     },
     "output_type": "display_data"
    }
   ],
   "source": [
    "plt.subplots(figsize=(10,6))\n",
    "plt.plot(history_df_1.loc[:, ['accuracy','val_accuracy']], lw=2)\n",
    "plt.title('Accuracy', fontsize=20)\n",
    "plt.legend(['Training Accuracy','Validation Accuracy'], fontsize=10, loc=4)\n",
    "plt.grid()\n",
    "plt.show()"
   ]
  }
 ],
 "metadata": {
  "colab": {
   "name": "Transfer Learning Steel.ipynb",
   "provenance": []
  },
  "kernelspec": {
   "display_name": "Python 3",
   "language": "python",
   "name": "python3"
  },
  "language_info": {
   "codemirror_mode": {
    "name": "ipython",
    "version": 3
   },
   "file_extension": ".py",
   "mimetype": "text/x-python",
   "name": "python",
   "nbconvert_exporter": "python",
   "pygments_lexer": "ipython3",
   "version": "3.8.13"
  }
 },
 "nbformat": 4,
 "nbformat_minor": 5
}
