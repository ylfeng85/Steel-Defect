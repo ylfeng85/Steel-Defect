{
 "cells": [
  {
   "cell_type": "markdown",
   "id": "8c236c00-9416-4ce9-b20c-5c024720ded9",
   "metadata": {},
   "source": [
    "## Machine Learning Project\n",
    "### Steel Defect Detection \n",
    "#### Exploratory Data Analysis"
   ]
  },
  {
   "cell_type": "code",
   "execution_count": 1,
   "id": "fd192671-4d34-402c-b632-0a6cfa40a80b",
   "metadata": {},
   "outputs": [],
   "source": [
    "import pandas as pd\n",
    "import numpy as np\n",
    "import matplotlib.pyplot as plt\n",
    "import seaborn as sns\n",
    "import warnings\n",
    "import os\n",
    "import tensorflow as tf\n",
    "\n",
    "import warnings \n",
    "warnings.filterwarnings(\"ignore\")"
   ]
  },
  {
   "cell_type": "code",
   "execution_count": 2,
   "id": "60e631f1-9929-42c1-a4fd-fa8a0900b5bf",
   "metadata": {},
   "outputs": [
    {
     "data": {
      "text/plain": [
       "[PhysicalDevice(name='/physical_device:CPU:0', device_type='CPU'),\n",
       " PhysicalDevice(name='/physical_device:GPU:0', device_type='GPU')]"
      ]
     },
     "execution_count": 2,
     "metadata": {},
     "output_type": "execute_result"
    }
   ],
   "source": [
    "tf.config.set_visible_devices([], 'GPU')\n",
    "tf.config.list_physical_devices()"
   ]
  },
  {
   "cell_type": "code",
   "execution_count": 3,
   "id": "2ddfb022-d486-4aca-920e-7ee3a9f1bbb1",
   "metadata": {},
   "outputs": [],
   "source": [
    "data = pd.read_csv(\"/Users/ali/Downloads/severstal-steel-defect-detection/train.csv\")"
   ]
  },
  {
   "cell_type": "code",
   "execution_count": 4,
   "id": "892c029c-5dfc-4d89-acc4-36988a4e0e00",
   "metadata": {},
   "outputs": [
    {
     "data": {
      "text/plain": [
       "(7095, 3)"
      ]
     },
     "execution_count": 4,
     "metadata": {},
     "output_type": "execute_result"
    }
   ],
   "source": [
    "data.shape"
   ]
  },
  {
   "cell_type": "markdown",
   "id": "88f88b92-5a18-424c-aebe-fedd082aec0b",
   "metadata": {},
   "source": [
    "**Classes of Images in Train Dataset**"
   ]
  },
  {
   "cell_type": "code",
   "execution_count": 5,
   "id": "c0709ccd-c311-4de3-b4e6-79f39dabd01f",
   "metadata": {},
   "outputs": [],
   "source": [
    "import seaborn as sns"
   ]
  },
  {
   "cell_type": "code",
   "execution_count": 6,
   "id": "9b05aa71-3067-48e5-843a-9084882233e7",
   "metadata": {},
   "outputs": [
    {
     "data": {
      "image/png": "[encoded data removed]",
      "text/plain": [
       "<Figure size 720x432 with 1 Axes>"
      ]
     },
     "metadata": {
      "needs_background": "light"
     },
     "output_type": "display_data"
    }
   ],
   "source": [
    "plt.figure(figsize=(10,6))\n",
    "sns.countplot(data['ClassId'])\n",
    "plt.xlabel('ClassID')\n",
    "plt.ylabel('Number of Images per Defect type')\n",
    "plt.title('Number of Images per Class')\n",
    "plt.show();"
   ]
  },
  {
   "cell_type": "markdown",
   "id": "9be8a74f-0795-4ecb-8f5b-dcc24cb3fd9d",
   "metadata": {},
   "source": [
    "**Images with Multiple Defects**"
   ]
  },
  {
   "cell_type": "code",
   "execution_count": 7,
   "id": "7aa48d4c-f9e1-4d2f-80be-b2a95ca365df",
   "metadata": {},
   "outputs": [],
   "source": [
    "df_eda = data.copy()\n",
    "df_eda['defect_present'] = df_eda['ClassId'].map(lambda x:1)"
   ]
  },
  {
   "cell_type": "code",
   "execution_count": 8,
   "id": "8dde8b93-f76a-48d1-baf3-65406ccd42bc",
   "metadata": {},
   "outputs": [
    {
     "data": {
      "text/plain": [
       "1    6239\n",
       "2     425\n",
       "3       2\n",
       "Name: defect_present, dtype: int64"
      ]
     },
     "execution_count": 8,
     "metadata": {},
     "output_type": "execute_result"
    }
   ],
   "source": [
    "defect_type = df_eda.groupby(['ImageId'])['defect_present'].sum()\n",
    "defect_type.value_counts()"
   ]
  },
  {
   "cell_type": "code",
   "execution_count": 24,
   "id": "bf7021b4-71c8-44f2-9837-f57d6d62ca8e",
   "metadata": {},
   "outputs": [
    {
     "data": {
      "image/png": "[encoded data removed]",
      "text/plain": [
       "<Figure size 720x432 with 1 Axes>"
      ]
     },
     "metadata": {
      "needs_background": "light"
     },
     "output_type": "display_data"
    }
   ],
   "source": [
    "plt.figure(figsize=(10,6))\n",
    "sns.barplot(x = defect_type.value_counts().index, y = defect_type.value_counts())\n",
    "plt.xlabel('Number of defects in an Image')\n",
    "plt.ylabel('Number of Images')\n",
    "plt.title('Images with multiple defects')\n",
    "plt.show()"
   ]
  },
  {
   "cell_type": "markdown",
   "id": "850c7030-238a-4a55-ba3c-ece8fa3f766a",
   "metadata": {},
   "source": [
    "There are 6239 images with only 1 defect. <br> \n",
    "There are 425 images with 2 defects. <br> \n",
    "There are only 2 images with 3 defects. <br> "
   ]
  },
  {
   "cell_type": "markdown",
   "id": "94f6393b-04c7-41aa-ab31-a21a37f94c7b",
   "metadata": {},
   "source": [
    "**Split between images with no defects and at least 1 defect**"
   ]
  },
  {
   "cell_type": "code",
   "execution_count": 10,
   "id": "a47ecde8-2712-4068-aed1-fd6fb2966dbd",
   "metadata": {},
   "outputs": [],
   "source": [
    "train_directory = '/Users/ali/Documents/University of Chicago/Machine Learning and Predictive Analytics /Project/severstal-steel-defect-detection/train_images'"
   ]
  },
  {
   "cell_type": "code",
   "execution_count": 11,
   "id": "3eaf1104-8321-49c7-8a09-0cc924cf4a22",
   "metadata": {},
   "outputs": [],
   "source": [
    "defect = data['ImageId'].unique()\n",
    "defect_images = []\n",
    "for i in os.listdir(train_directory):\n",
    "  if i not in defect_images:\n",
    "    if i in defect.tolist():\n",
    "      defect_images.append([i,1])\n",
    "    else:\n",
    "      defect_images.append([i,0])"
   ]
  },
  {
   "cell_type": "code",
   "execution_count": 12,
   "id": "a49dbbcf-efdc-4be4-b306-4c17a50a53ad",
   "metadata": {},
   "outputs": [
    {
     "data": {
      "text/plain": [
       "[['58ee62fd7.jpg', 1],\n",
       " ['eeffa4c49.jpg', 1],\n",
       " ['0dced41aa.jpg', 0],\n",
       " ['bd2366c49.jpg', 0],\n",
       " ['e2bdd4236.jpg', 1],\n",
       " ['5210ac609.jpg', 1],\n",
       " ['18076ccc9.jpg', 0],\n",
       " ['b3f6a891f.jpg', 0],\n",
       " ['55901ac51.jpg', 1],\n",
       " ['48831ab9e.jpg', 1]]"
      ]
     },
     "execution_count": 12,
     "metadata": {},
     "output_type": "execute_result"
    }
   ],
   "source": [
    "defect_images[:10]"
   ]
  },
  {
   "cell_type": "code",
   "execution_count": 13,
   "id": "dab27aa1-b06c-4aee-b980-c216c9412f5b",
   "metadata": {},
   "outputs": [
    {
     "data": {
      "text/html": [
       "<div>\n",
       "<style scoped>\n",
       "    .dataframe tbody tr th:only-of-type {\n",
       "        vertical-align: middle;\n",
       "    }\n",
       "\n",
       "    .dataframe tbody tr th {\n",
       "        vertical-align: top;\n",
       "    }\n",
       "\n",
       "    .dataframe thead th {\n",
       "        text-align: right;\n",
       "    }\n",
       "</style>\n",
       "<table border=\"1\" class=\"dataframe\">\n",
       "  <thead>\n",
       "    <tr style=\"text-align: right;\">\n",
       "      <th></th>\n",
       "      <th>ImageId</th>\n",
       "      <th>defect_present</th>\n",
       "    </tr>\n",
       "  </thead>\n",
       "  <tbody>\n",
       "    <tr>\n",
       "      <th>0</th>\n",
       "      <td>58ee62fd7.jpg</td>\n",
       "      <td>1</td>\n",
       "    </tr>\n",
       "    <tr>\n",
       "      <th>1</th>\n",
       "      <td>eeffa4c49.jpg</td>\n",
       "      <td>1</td>\n",
       "    </tr>\n",
       "    <tr>\n",
       "      <th>2</th>\n",
       "      <td>0dced41aa.jpg</td>\n",
       "      <td>0</td>\n",
       "    </tr>\n",
       "    <tr>\n",
       "      <th>3</th>\n",
       "      <td>bd2366c49.jpg</td>\n",
       "      <td>0</td>\n",
       "    </tr>\n",
       "    <tr>\n",
       "      <th>4</th>\n",
       "      <td>e2bdd4236.jpg</td>\n",
       "      <td>1</td>\n",
       "    </tr>\n",
       "  </tbody>\n",
       "</table>\n",
       "</div>"
      ],
      "text/plain": [
       "         ImageId  defect_present\n",
       "0  58ee62fd7.jpg               1\n",
       "1  eeffa4c49.jpg               1\n",
       "2  0dced41aa.jpg               0\n",
       "3  bd2366c49.jpg               0\n",
       "4  e2bdd4236.jpg               1"
      ]
     },
     "execution_count": 13,
     "metadata": {},
     "output_type": "execute_result"
    }
   ],
   "source": [
    "image_id = pd.DataFrame(list(map(lambda x:x[0], defect_images)), columns = ['ImageId'])\n",
    "defect_present = pd.DataFrame(list(map(lambda x:x[1],defect_images)), columns = ['defect_present'])\n",
    "images_dir = pd.concat([image_id, defect_present],axis=1)\n",
    "images_dir.head(5)"
   ]
  },
  {
   "cell_type": "code",
   "execution_count": 14,
   "id": "0c3095c8-630c-4d0d-8de7-ddd756a2e297",
   "metadata": {},
   "outputs": [
    {
     "data": {
      "image/png": "[encoded data removed]",
      "text/plain": [
       "<Figure size 576x432 with 1 Axes>"
      ]
     },
     "metadata": {
      "needs_background": "light"
     },
     "output_type": "display_data"
    }
   ],
   "source": [
    "plt.figure(figsize=(8,6))\n",
    "sns.countplot(images_dir['defect_present'])\n",
    "plt.ylabel('Number of Images')\n",
    "plt.xlabel('0: Non-defect,    1: Defect')\n",
    "plt.title('Defect and Non-Defect Images')\n",
    "plt.show()"
   ]
  },
  {
   "cell_type": "markdown",
   "id": "16f46a50-5b61-4c6f-b8a2-3e5c56223101",
   "metadata": {},
   "source": [
    "**Identifying Image Quality** "
   ]
  },
  {
   "cell_type": "code",
   "execution_count": 1,
   "id": "58afecb2-6500-4054-8f51-3ad352b64e29",
   "metadata": {},
   "outputs": [],
   "source": [
    "def jpeg_res(filename):\n",
    "   with open(filename,'rb') as img_file:\n",
    "    img_file.seek(163)\n",
    "    a = img_file.read(2)\n",
    "    height = (a[0] << 8) + a[1]\n",
    "    a = img_file.read(2)\n",
    "    width = (a[0] << 8) + a[1]\n",
    "    return(width, height)"
   ]
  },
  {
   "cell_type": "code",
   "execution_count": 3,
   "id": "29b560bf-3344-46d7-9ee2-d978eee51e79",
   "metadata": {},
   "outputs": [],
   "source": [
    "import os \n",
    "import pandas as pd\n",
    "\n",
    "os.chdir('/Users/ali/Downloads/severstal-steel-defect-detection/test_images')\n",
    "files = os.listdir('/Users/ali/Downloads/severstal-steel-defect-detection/test_images') \n",
    "\n",
    "index = 0\n",
    "limit = 100000\n",
    "\n",
    "res = []\n",
    "fileno = []\n",
    "\n",
    "for f in files: \n",
    "    res.append(jpeg_res(f))\n",
    "    fileno.append(f)\n",
    "    index += 1\n",
    "    if index == limit:\n",
    "        break"
   ]
  },
  {
   "cell_type": "code",
   "execution_count": 4,
   "id": "0e6b6a76-c856-4dea-85cb-9e2c57792db1",
   "metadata": {},
   "outputs": [
    {
     "data": {
      "text/html": [
       "<div>\n",
       "<style scoped>\n",
       "    .dataframe tbody tr th:only-of-type {\n",
       "        vertical-align: middle;\n",
       "    }\n",
       "\n",
       "    .dataframe tbody tr th {\n",
       "        vertical-align: top;\n",
       "    }\n",
       "\n",
       "    .dataframe thead th {\n",
       "        text-align: right;\n",
       "    }\n",
       "</style>\n",
       "<table border=\"1\" class=\"dataframe\">\n",
       "  <thead>\n",
       "    <tr style=\"text-align: right;\">\n",
       "      <th></th>\n",
       "      <th>Image</th>\n",
       "      <th>Res</th>\n",
       "    </tr>\n",
       "  </thead>\n",
       "  <tbody>\n",
       "    <tr>\n",
       "      <th>0</th>\n",
       "      <td>2b6c68337.jpg</td>\n",
       "      <td>(1600, 256)</td>\n",
       "    </tr>\n",
       "    <tr>\n",
       "      <th>1</th>\n",
       "      <td>73ff8efef.jpg</td>\n",
       "      <td>(1600, 256)</td>\n",
       "    </tr>\n",
       "    <tr>\n",
       "      <th>2</th>\n",
       "      <td>1e45cda5b.jpg</td>\n",
       "      <td>(1600, 256)</td>\n",
       "    </tr>\n",
       "    <tr>\n",
       "      <th>3</th>\n",
       "      <td>549fb29f7.jpg</td>\n",
       "      <td>(1600, 256)</td>\n",
       "    </tr>\n",
       "    <tr>\n",
       "      <th>4</th>\n",
       "      <td>5f0696eb5.jpg</td>\n",
       "      <td>(1600, 256)</td>\n",
       "    </tr>\n",
       "  </tbody>\n",
       "</table>\n",
       "</div>"
      ],
      "text/plain": [
       "           Image          Res\n",
       "0  2b6c68337.jpg  (1600, 256)\n",
       "1  73ff8efef.jpg  (1600, 256)\n",
       "2  1e45cda5b.jpg  (1600, 256)\n",
       "3  549fb29f7.jpg  (1600, 256)\n",
       "4  5f0696eb5.jpg  (1600, 256)"
      ]
     },
     "execution_count": 4,
     "metadata": {},
     "output_type": "execute_result"
    }
   ],
   "source": [
    "d = {'Image': fileno, 'Res': res}\n",
    "df = pd.DataFrame(d)\n",
    "df.head()"
   ]
  },
  {
   "cell_type": "code",
   "execution_count": 5,
   "id": "b7084634-014f-446d-9b95-76ed9dd66c5a",
   "metadata": {},
   "outputs": [
    {
     "data": {
      "text/html": [
       "<div>\n",
       "<style scoped>\n",
       "    .dataframe tbody tr th:only-of-type {\n",
       "        vertical-align: middle;\n",
       "    }\n",
       "\n",
       "    .dataframe tbody tr th {\n",
       "        vertical-align: top;\n",
       "    }\n",
       "\n",
       "    .dataframe thead th {\n",
       "        text-align: right;\n",
       "    }\n",
       "</style>\n",
       "<table border=\"1\" class=\"dataframe\">\n",
       "  <thead>\n",
       "    <tr style=\"text-align: right;\">\n",
       "      <th></th>\n",
       "      <th>Image</th>\n",
       "    </tr>\n",
       "    <tr>\n",
       "      <th>Res</th>\n",
       "      <th></th>\n",
       "    </tr>\n",
       "  </thead>\n",
       "  <tbody>\n",
       "    <tr>\n",
       "      <th>(1600, 256)</th>\n",
       "      <td>5506</td>\n",
       "    </tr>\n",
       "  </tbody>\n",
       "</table>\n",
       "</div>"
      ],
      "text/plain": [
       "             Image\n",
       "Res               \n",
       "(1600, 256)   5506"
      ]
     },
     "execution_count": 5,
     "metadata": {},
     "output_type": "execute_result"
    }
   ],
   "source": [
    "df.groupby(['Res']).count()"
   ]
  },
  {
   "cell_type": "code",
   "execution_count": 6,
   "id": "cd39d7e5-ddbd-470a-afb4-745ffed42482",
   "metadata": {},
   "outputs": [],
   "source": [
    "os.chdir('/Users/ali/Downloads/severstal-steel-defect-detection/train_images')\n",
    "files = os.listdir('/Users/ali/Downloads/severstal-steel-defect-detection/train_images') \n",
    "\n",
    "index = 0\n",
    "limit = 100000\n",
    "\n",
    "res = []\n",
    "fileno = []\n",
    "\n",
    "for f in files: \n",
    "    res.append(jpeg_res(f))\n",
    "    fileno.append(f)\n",
    "    index += 1\n",
    "    if index == limit:\n",
    "        break"
   ]
  },
  {
   "cell_type": "code",
   "execution_count": 7,
   "id": "c58a488c-4168-4c82-a647-e07d7068981c",
   "metadata": {},
   "outputs": [
    {
     "data": {
      "text/html": [
       "<div>\n",
       "<style scoped>\n",
       "    .dataframe tbody tr th:only-of-type {\n",
       "        vertical-align: middle;\n",
       "    }\n",
       "\n",
       "    .dataframe tbody tr th {\n",
       "        vertical-align: top;\n",
       "    }\n",
       "\n",
       "    .dataframe thead th {\n",
       "        text-align: right;\n",
       "    }\n",
       "</style>\n",
       "<table border=\"1\" class=\"dataframe\">\n",
       "  <thead>\n",
       "    <tr style=\"text-align: right;\">\n",
       "      <th></th>\n",
       "      <th>Image</th>\n",
       "      <th>Res</th>\n",
       "    </tr>\n",
       "  </thead>\n",
       "  <tbody>\n",
       "    <tr>\n",
       "      <th>0</th>\n",
       "      <td>58ee62fd7.jpg</td>\n",
       "      <td>(1600, 256)</td>\n",
       "    </tr>\n",
       "    <tr>\n",
       "      <th>1</th>\n",
       "      <td>eeffa4c49.jpg</td>\n",
       "      <td>(1600, 256)</td>\n",
       "    </tr>\n",
       "    <tr>\n",
       "      <th>2</th>\n",
       "      <td>0dced41aa.jpg</td>\n",
       "      <td>(1600, 256)</td>\n",
       "    </tr>\n",
       "    <tr>\n",
       "      <th>3</th>\n",
       "      <td>bd2366c49.jpg</td>\n",
       "      <td>(1600, 256)</td>\n",
       "    </tr>\n",
       "    <tr>\n",
       "      <th>4</th>\n",
       "      <td>e2bdd4236.jpg</td>\n",
       "      <td>(1600, 256)</td>\n",
       "    </tr>\n",
       "  </tbody>\n",
       "</table>\n",
       "</div>"
      ],
      "text/plain": [
       "           Image          Res\n",
       "0  58ee62fd7.jpg  (1600, 256)\n",
       "1  eeffa4c49.jpg  (1600, 256)\n",
       "2  0dced41aa.jpg  (1600, 256)\n",
       "3  bd2366c49.jpg  (1600, 256)\n",
       "4  e2bdd4236.jpg  (1600, 256)"
      ]
     },
     "execution_count": 7,
     "metadata": {},
     "output_type": "execute_result"
    }
   ],
   "source": [
    "d = {'Image': fileno, 'Res': res}\n",
    "df = pd.DataFrame(d)\n",
    "df.head()"
   ]
  },
  {
   "cell_type": "code",
   "execution_count": 8,
   "id": "ab1999b1-05dd-41e2-beed-fc64db61e827",
   "metadata": {},
   "outputs": [
    {
     "data": {
      "text/html": [
       "<div>\n",
       "<style scoped>\n",
       "    .dataframe tbody tr th:only-of-type {\n",
       "        vertical-align: middle;\n",
       "    }\n",
       "\n",
       "    .dataframe tbody tr th {\n",
       "        vertical-align: top;\n",
       "    }\n",
       "\n",
       "    .dataframe thead th {\n",
       "        text-align: right;\n",
       "    }\n",
       "</style>\n",
       "<table border=\"1\" class=\"dataframe\">\n",
       "  <thead>\n",
       "    <tr style=\"text-align: right;\">\n",
       "      <th></th>\n",
       "      <th>Image</th>\n",
       "    </tr>\n",
       "    <tr>\n",
       "      <th>Res</th>\n",
       "      <th></th>\n",
       "    </tr>\n",
       "  </thead>\n",
       "  <tbody>\n",
       "    <tr>\n",
       "      <th>(1600, 256)</th>\n",
       "      <td>12568</td>\n",
       "    </tr>\n",
       "  </tbody>\n",
       "</table>\n",
       "</div>"
      ],
      "text/plain": [
       "             Image\n",
       "Res               \n",
       "(1600, 256)  12568"
      ]
     },
     "execution_count": 8,
     "metadata": {},
     "output_type": "execute_result"
    }
   ],
   "source": [
    "df.groupby(['Res']).count()"
   ]
  }
 ],
 "metadata": {
  "kernelspec": {
   "display_name": "Python 3",
   "language": "python",
   "name": "python3"
  },
  "language_info": {
   "codemirror_mode": {
    "name": "ipython",
    "version": 3
   },
   "file_extension": ".py",
   "mimetype": "text/x-python",
   "name": "python",
   "nbconvert_exporter": "python",
   "pygments_lexer": "ipython3",
   "version": "3.8.13"
  }
 },
 "nbformat": 4,
 "nbformat_minor": 5
}
